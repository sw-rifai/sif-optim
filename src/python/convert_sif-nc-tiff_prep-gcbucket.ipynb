{
 "cells": [
  {
   "cell_type": "markdown",
   "id": "c2d5235a-99d1-4811-a49e-e541e4cd6ad2",
   "metadata": {},
   "source": [
    "# Generate an image collection from a stack of netcdfs"
   ]
  },
  {
   "cell_type": "markdown",
   "id": "132e8ca2-494b-4546-9ed3-b7e604e4a643",
   "metadata": {},
   "source": [
    "(1) Convert netcdf files to compressed tiffs"
   ]
  },
  {
   "cell_type": "code",
   "execution_count": null,
   "id": "369d8cc3-7ca8-4b3f-831f-6a24146d55a5",
   "metadata": {},
   "outputs": [],
   "source": [
    "%%bash\n",
    "\n",
    "src_path=\"/media/sami/srifai-ssd/data-ssd/tropomi-conus\"\n",
    "dst_path=\"/media/sami/srifai-ssd/data-ssd/tropomi-sif-tif\"\n",
    "files=`find $src_path -type f -name \"*.nc\" -printf \"%f\\n\"`\n",
    "\n",
    "\n",
    "# run gdal_translate to convert to tif\n",
    "for f in $files\n",
    " do \n",
    "    echo $f\n",
    "    new_f=\"${f%.*}.tif\"\n",
    "    gdal_translate -projwin_srs EPSG:4326 -a_srs EPSG:4326 -of COG -co BLOCKSIZE=512 -co TILING_SCHEME=CUSTOM -co \"COMPRESS=DEFLATE\" -co \"NUM_THREADS=12\" netCDF:$src_path/$f:SIF $dst_path/$new_f\n",
    "#   gdalwarp -t_srs EPSG:4326 -tr 0.05 0.05 -r average -multi $path/$f /home/sami/scratch/frac_cover/$f &\n",
    " done"
   ]
  },
  {
   "cell_type": "markdown",
   "id": "dcd197f0-e3c2-4f88-b19e-aa223bf8c7d1",
   "metadata": {},
   "source": [
    "(2) Upload the files to a google cloud storage bucket"
   ]
  },
  {
   "cell_type": "code",
   "execution_count": null,
   "id": "915508b6-ee09-4a85-9fd4-a062bb9e3d55",
   "metadata": {},
   "outputs": [],
   "source": [
    "%%bash\n",
    "src_path=\"/media/sami/srifai-ssd/data-ssd/tropomi-conus\"\n",
    "files=`find $src_path -type f -name \"*.nc\" -printf \"%f\\n\"`\n",
    "\n",
    "for f in $files\n",
    " do\n",
    "     new_f=\"${f%.*}\"\n",
    "     echo $new_f.tif\n",
    "     d=\"${new_f//[!0-9]/}\"\n",
    "     date=${d:0:4}-${d:4:2}-${d:6:7}\n",
    "     earthengine upload image --asset_id=users/srifai/tropomi-sif/$new_f gs://tropomi-sif-conus/tropomi-sif-tif/$new_f.tif\n",
    "#      earthengine asset set --time_start $date users/srifai/tropomi-sif/$new_f\n",
    " done"
   ]
  },
  {
   "cell_type": "markdown",
   "id": "9f474b24-1c33-4d60-9d9d-bdfe332e504e",
   "metadata": {},
   "source": [
    "(3) Add the date to each image"
   ]
  },
  {
   "cell_type": "code",
   "execution_count": null,
   "id": "71c71fbd-fcfd-4985-8a11-587684f090e2",
   "metadata": {},
   "outputs": [],
   "source": [
    "%%bash\n",
    "src_path=\"/media/sami/srifai-ssd/data-ssd/tropomi-conus\"\n",
    "files=`find $src_path -type f -name \"*.nc\" -printf \"%f\\n\"`\n",
    "\n",
    "for f in $files\n",
    " do\n",
    "     new_f=\"${f%.*}\"\n",
    "     echo $new_f.tif\n",
    "     d=\"${new_f//[!0-9]/}\"\n",
    "     date=${d:0:4}-${d:4:2}-${d:6:7}\n",
    "     earthengine asset set --time_start $date users/srifai/tropomi-sif/$new_f\n",
    " done"
   ]
  },
  {
   "cell_type": "code",
   "execution_count": null,
   "id": "70bdad1a-6c89-452f-8c00-1701ae62e05e",
   "metadata": {},
   "outputs": [],
   "source": []
  }
 ],
 "metadata": {
  "kernelspec": {
   "display_name": "Python 3 (ipykernel)",
   "language": "python",
   "name": "python3"
  },
  "language_info": {
   "codemirror_mode": {
    "name": "ipython",
    "version": 3
   },
   "file_extension": ".py",
   "mimetype": "text/x-python",
   "name": "python",
   "nbconvert_exporter": "python",
   "pygments_lexer": "ipython3",
   "version": "3.8.8"
  }
 },
 "nbformat": 4,
 "nbformat_minor": 5
}
