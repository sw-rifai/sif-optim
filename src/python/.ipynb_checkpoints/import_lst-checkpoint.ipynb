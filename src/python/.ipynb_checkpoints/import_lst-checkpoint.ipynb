{
 "cells": [
  {
   "cell_type": "code",
   "execution_count": 1,
   "metadata": {},
   "outputs": [],
   "source": [
    "import os\n",
    "import urllib.request\n",
    "\n",
    "import cartopy.crs as ccrs\n",
    "import matplotlib.pyplot as plt\n",
    "import numpy as np\n",
    "from rasterio.warp import transform\n",
    "import pandas as pd\n",
    "import xarray as xr"
   ]
  },
  {
   "cell_type": "code",
   "execution_count": 63,
   "metadata": {},
   "outputs": [],
   "source": [
    "ref = xr.open_rasterio('../../../data_general/proc_sif-optim/sif_refgrid.tif')\n",
    "ref = ref.rename(\"SIF\")\n",
    "ref.to_netcdf(path='../../../data_general/proc_sif-optim/covar_nc/sif_refgrid.nc',\n",
    "             mode='w',\n",
    "            format='NETCDF4', \n",
    "            encoding={\"SIF\":{\"zlib\":True}} )\n"
   ]
  },
  {
   "cell_type": "code",
   "execution_count": 65,
   "metadata": {},
   "outputs": [
    {
     "data": {
      "text/html": [
       "<pre>&lt;xarray.DataArray (band: 364, y: 1280, x: 1280)&gt;\n",
       "[596377600 values with dtype=float64]\n",
       "Coordinates:\n",
       "  * band     (band) int64 1 2 3 4 5 6 7 8 9 ... 357 358 359 360 361 362 363 364\n",
       "  * y        (y) float64 49.38 49.38 49.37 49.36 49.35 ... 37.92 37.91 37.9 37.9\n",
       "  * x        (x) float64 -124.7 -124.7 -124.7 -124.7 ... -113.3 -113.3 -113.2\n",
       "Attributes:\n",
       "    transform:      (0.008983152841195215, 0.0, -124.74006035283676, 0.0, -0....\n",
       "    crs:            +init=epsg:4326\n",
       "    res:            (0.008983152841195215, 0.008983152841195215)\n",
       "    is_tiled:       1\n",
       "    nodatavals:     (nan, nan, nan, nan, nan, nan, nan, nan, nan, nan, nan, n...\n",
       "    scales:         (1.0, 1.0, 1.0, 1.0, 1.0, 1.0, 1.0, 1.0, 1.0, 1.0, 1.0, 1...\n",
       "    offsets:        (0.0, 0.0, 0.0, 0.0, 0.0, 0.0, 0.0, 0.0, 0.0, 0.0, 0.0, 0...\n",
       "    AREA_OR_POINT:  Area</pre>"
      ],
      "text/plain": [
       "<xarray.DataArray (band: 364, y: 1280, x: 1280)>\n",
       "[596377600 values with dtype=float64]\n",
       "Coordinates:\n",
       "  * band     (band) int64 1 2 3 4 5 6 7 8 9 ... 357 358 359 360 361 362 363 364\n",
       "  * y        (y) float64 49.38 49.38 49.37 49.36 49.35 ... 37.92 37.91 37.9 37.9\n",
       "  * x        (x) float64 -124.7 -124.7 -124.7 -124.7 ... -113.3 -113.3 -113.2\n",
       "Attributes:\n",
       "    transform:      (0.008983152841195215, 0.0, -124.74006035283676, 0.0, -0....\n",
       "    crs:            +init=epsg:4326\n",
       "    res:            (0.008983152841195215, 0.008983152841195215)\n",
       "    is_tiled:       1\n",
       "    nodatavals:     (nan, nan, nan, nan, nan, nan, nan, nan, nan, nan, nan, n...\n",
       "    scales:         (1.0, 1.0, 1.0, 1.0, 1.0, 1.0, 1.0, 1.0, 1.0, 1.0, 1.0, 1...\n",
       "    offsets:        (0.0, 0.0, 0.0, 0.0, 0.0, 0.0, 0.0, 0.0, 0.0, 0.0, 0.0, 0...\n",
       "    AREA_OR_POINT:  Area"
      ]
     },
     "execution_count": 65,
     "metadata": {},
     "output_type": "execute_result"
    }
   ],
   "source": [
    "da = xr.open_rasterio('../../../data_general/proc_sif-optim/myd11a1_2018-0000000000-0000000000.tif')\n",
    "ref_sif = xr.open_rasterio(\"../../../data_general/proc_sif-optim/sif_refgrid.tif\")\n",
    "da"
   ]
  },
  {
   "cell_type": "code",
   "execution_count": 66,
   "metadata": {},
   "outputs": [],
   "source": [
    "# Compute the lon/lat coordinates with rasterio.warp.transform\n",
    "ny, nx = len(da['y']), len(da['x'])\n",
    "x, y = np.meshgrid(da['x'], da['y'])\n",
    "\n",
    "# Rasterio works with 1D arrays\n",
    "lon, lat = transform(da.crs, {'init': 'EPSG:4326'},\n",
    "                     x.flatten(), y.flatten())\n",
    "lon = np.asarray(lon).reshape((ny, nx))\n",
    "lat = np.asarray(lat).reshape((ny, nx))\n",
    "da.coords['lon'] = (('y', 'x'), lon)\n",
    "da.coords['lat'] = (('y', 'x'), lat)"
   ]
  },
  {
   "cell_type": "code",
   "execution_count": 67,
   "metadata": {},
   "outputs": [],
   "source": [
    "da = da.rename({'band':'time'})"
   ]
  },
  {
   "cell_type": "code",
   "execution_count": 68,
   "metadata": {},
   "outputs": [],
   "source": [
    "da = da.rename(\"lst\")"
   ]
  },
  {
   "cell_type": "code",
   "execution_count": 70,
   "metadata": {},
   "outputs": [],
   "source": [
    "da.coords['time'] = pd.date_range(\"2018-01-01\", periods=364)"
   ]
  },
  {
   "cell_type": "code",
   "execution_count": 72,
   "metadata": {},
   "outputs": [],
   "source": [
    "da.to_netcdf(path='../../../data_general/proc_sif-optim/covar_nc/myd11a1_2018-0000000000-0000000000.nc',\n",
    "             mode='w',\n",
    "            format='NETCDF4', \n",
    "            encoding={\"lst\":{\"zlib\":True, \"complevel\":9}} )"
   ]
  },
  {
   "cell_type": "code",
   "execution_count": 31,
   "metadata": {},
   "outputs": [],
   "source": [
    "i1 = da[1:3,:,:]"
   ]
  },
  {
   "cell_type": "code",
   "execution_count": 40,
   "metadata": {},
   "outputs": [
    {
     "ename": "SyntaxError",
     "evalue": "invalid syntax (<ipython-input-40-12ecb3c68009>, line 1)",
     "output_type": "error",
     "traceback": [
      "\u001b[0;36m  File \u001b[0;32m\"<ipython-input-40-12ecb3c68009>\"\u001b[0;36m, line \u001b[0;32m1\u001b[0m\n\u001b[0;31m    i2 = i1.mean(dim=1:2)\u001b[0m\n\u001b[0m                      ^\u001b[0m\n\u001b[0;31mSyntaxError\u001b[0m\u001b[0;31m:\u001b[0m invalid syntax\n"
     ]
    }
   ],
   "source": [
    "i2 = i1.mean(dim=1:2)\n",
    "i2.plot()"
   ]
  },
  {
   "cell_type": "code",
   "execution_count": 10,
   "metadata": {},
   "outputs": [],
   "source": [
    "tmp1 = i1.to_dataframe(name='lst')"
   ]
  },
  {
   "cell_type": "code",
   "execution_count": 13,
   "metadata": {},
   "outputs": [
    {
     "data": {
      "text/html": [
       "<div>\n",
       "<style scoped>\n",
       "    .dataframe tbody tr th:only-of-type {\n",
       "        vertical-align: middle;\n",
       "    }\n",
       "\n",
       "    .dataframe tbody tr th {\n",
       "        vertical-align: top;\n",
       "    }\n",
       "\n",
       "    .dataframe thead th {\n",
       "        text-align: right;\n",
       "    }\n",
       "</style>\n",
       "<table border=\"1\" class=\"dataframe\">\n",
       "  <thead>\n",
       "    <tr style=\"text-align: right;\">\n",
       "      <th></th>\n",
       "      <th></th>\n",
       "      <th>band</th>\n",
       "      <th>lon</th>\n",
       "      <th>lat</th>\n",
       "      <th>lst</th>\n",
       "    </tr>\n",
       "    <tr>\n",
       "      <th>y</th>\n",
       "      <th>x</th>\n",
       "      <th></th>\n",
       "      <th></th>\n",
       "      <th></th>\n",
       "      <th></th>\n",
       "    </tr>\n",
       "  </thead>\n",
       "  <tbody>\n",
       "    <tr>\n",
       "      <th rowspan=\"5\" valign=\"top\">49.384883</th>\n",
       "      <th>-115.950045</th>\n",
       "      <td>2</td>\n",
       "      <td>-115.950045</td>\n",
       "      <td>49.384883</td>\n",
       "      <td>256.24</td>\n",
       "    </tr>\n",
       "    <tr>\n",
       "      <th>-115.743433</th>\n",
       "      <td>2</td>\n",
       "      <td>-115.743433</td>\n",
       "      <td>49.384883</td>\n",
       "      <td>258.46</td>\n",
       "    </tr>\n",
       "    <tr>\n",
       "      <th>-115.734450</th>\n",
       "      <td>2</td>\n",
       "      <td>-115.734450</td>\n",
       "      <td>49.384883</td>\n",
       "      <td>260.90</td>\n",
       "    </tr>\n",
       "    <tr>\n",
       "      <th>-115.725466</th>\n",
       "      <td>2</td>\n",
       "      <td>-115.725466</td>\n",
       "      <td>49.384883</td>\n",
       "      <td>260.90</td>\n",
       "    </tr>\n",
       "    <tr>\n",
       "      <th>-115.716483</th>\n",
       "      <td>2</td>\n",
       "      <td>-115.716483</td>\n",
       "      <td>49.384883</td>\n",
       "      <td>261.78</td>\n",
       "    </tr>\n",
       "    <tr>\n",
       "      <th>...</th>\n",
       "      <th>...</th>\n",
       "      <td>...</td>\n",
       "      <td>...</td>\n",
       "      <td>...</td>\n",
       "      <td>...</td>\n",
       "    </tr>\n",
       "    <tr>\n",
       "      <th rowspan=\"5\" valign=\"top\">39.215954</th>\n",
       "      <th>-121.187223</th>\n",
       "      <td>2</td>\n",
       "      <td>-121.187223</td>\n",
       "      <td>39.215954</td>\n",
       "      <td>286.64</td>\n",
       "    </tr>\n",
       "    <tr>\n",
       "      <th>-121.178240</th>\n",
       "      <td>2</td>\n",
       "      <td>-121.178240</td>\n",
       "      <td>39.215954</td>\n",
       "      <td>287.46</td>\n",
       "    </tr>\n",
       "    <tr>\n",
       "      <th>-120.872813</th>\n",
       "      <td>2</td>\n",
       "      <td>-120.872813</td>\n",
       "      <td>39.215954</td>\n",
       "      <td>287.02</td>\n",
       "    </tr>\n",
       "    <tr>\n",
       "      <th>-120.863830</th>\n",
       "      <td>2</td>\n",
       "      <td>-120.863830</td>\n",
       "      <td>39.215954</td>\n",
       "      <td>287.66</td>\n",
       "    </tr>\n",
       "    <tr>\n",
       "      <th>-120.854847</th>\n",
       "      <td>2</td>\n",
       "      <td>-120.854847</td>\n",
       "      <td>39.215954</td>\n",
       "      <td>287.66</td>\n",
       "    </tr>\n",
       "  </tbody>\n",
       "</table>\n",
       "<p>232969 rows × 4 columns</p>\n",
       "</div>"
      ],
      "text/plain": [
       "                       band         lon        lat     lst\n",
       "y         x                                               \n",
       "49.384883 -115.950045     2 -115.950045  49.384883  256.24\n",
       "          -115.743433     2 -115.743433  49.384883  258.46\n",
       "          -115.734450     2 -115.734450  49.384883  260.90\n",
       "          -115.725466     2 -115.725466  49.384883  260.90\n",
       "          -115.716483     2 -115.716483  49.384883  261.78\n",
       "...                     ...         ...        ...     ...\n",
       "39.215954 -121.187223     2 -121.187223  39.215954  286.64\n",
       "          -121.178240     2 -121.178240  39.215954  287.46\n",
       "          -120.872813     2 -120.872813  39.215954  287.02\n",
       "          -120.863830     2 -120.863830  39.215954  287.66\n",
       "          -120.854847     2 -120.854847  39.215954  287.66\n",
       "\n",
       "[232969 rows x 4 columns]"
      ]
     },
     "execution_count": 13,
     "metadata": {},
     "output_type": "execute_result"
    }
   ],
   "source": [
    "tmp1 = tmp1.dropna()\n",
    "tmp1"
   ]
  },
  {
   "cell_type": "code",
   "execution_count": 21,
   "metadata": {},
   "outputs": [
    {
     "name": "stderr",
     "output_type": "stream",
     "text": [
      "/home/sami/miniconda3/envs/sci/lib/python3.7/site-packages/cartopy/io/__init__.py:260: DownloadWarning: Downloading: http://naciscdn.org/naturalearth/10m/physical/ne_10m_coastline.zip\n",
      "  warnings.warn('Downloading: {}'.format(url), DownloadWarning)\n"
     ]
    },
    {
     "data": {
      "image/png": "[encoded data removed]",
      "text/plain": [
       "<Figure size 432x288 with 1 Axes>"
      ]
     },
     "metadata": {
      "needs_background": "light"
     },
     "output_type": "display_data"
    }
   ],
   "source": [
    "# Plot on a map\n",
    "ax = plt.subplot(projection=ccrs.PlateCarree())\n",
    "i1.plot(ax=ax, x='lon', y='lat', transform=ccrs.PlateCarree(),\n",
    "               cmap='Greys_r', add_colorbar=False)\n",
    "ax.coastlines('10m', color='r')\n",
    "plt.show()"
   ]
  },
  {
   "cell_type": "code",
   "execution_count": 28,
   "metadata": {},
   "outputs": [
    {
     "data": {
      "text/plain": [
       "<bound method DataArray.to_dataframe of <xarray.DataArray (y: 1280, x: 1280)>\n",
       "[1638400 values with dtype=float64]\n",
       "Coordinates:\n",
       "    band     int64 2\n",
       "  * y        (y) float64 49.38 49.38 49.37 49.36 49.35 ... 37.92 37.91 37.9 37.9\n",
       "  * x        (x) float64 -124.7 -124.7 -124.7 -124.7 ... -113.3 -113.3 -113.2\n",
       "    lon      (y, x) float64 -124.7 -124.7 -124.7 -124.7 ... -113.3 -113.3 -113.2\n",
       "    lat      (y, x) float64 49.38 49.38 49.38 49.38 ... 37.9 37.9 37.9 37.9\n",
       "Attributes:\n",
       "    transform:      (0.008983152841195215, 0.0, -124.74006035283676, 0.0, -0....\n",
       "    crs:            +init=epsg:4326\n",
       "    res:            (0.008983152841195215, 0.008983152841195215)\n",
       "    is_tiled:       1\n",
       "    nodatavals:     (nan, nan, nan, nan, nan, nan, nan, nan, nan, nan, nan, n...\n",
       "    scales:         (1.0, 1.0, 1.0, 1.0, 1.0, 1.0, 1.0, 1.0, 1.0, 1.0, 1.0, 1...\n",
       "    offsets:        (0.0, 0.0, 0.0, 0.0, 0.0, 0.0, 0.0, 0.0, 0.0, 0.0, 0.0, 0...\n",
       "    AREA_OR_POINT:  Area>"
      ]
     },
     "execution_count": 28,
     "metadata": {},
     "output_type": "execute_result"
    }
   ],
   "source": []
  },
  {
   "cell_type": "code",
   "execution_count": null,
   "metadata": {},
   "outputs": [],
   "source": []
  }
 ],
 "metadata": {
  "kernelspec": {
   "display_name": "Python 3",
   "language": "python",
   "name": "python3"
  },
  "language_info": {
   "codemirror_mode": {
    "name": "ipython",
    "version": 3
   },
   "file_extension": ".py",
   "mimetype": "text/x-python",
   "name": "python",
   "nbconvert_exporter": "python",
   "pygments_lexer": "ipython3",
   "version": "3.8.8"
  }
 },
 "nbformat": 4,
 "nbformat_minor": 4
}
